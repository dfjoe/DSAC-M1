{
 "cells": [
  {
   "cell_type": "code",
   "execution_count": 2,
   "id": "90765c46",
   "metadata": {},
   "outputs": [
    {
     "name": "stdout",
     "output_type": "stream",
     "text": [
      "[[1, 2, 3], [4, 5, 6], [7, 8, 9]]\n"
     ]
    }
   ],
   "source": [
    "x = [[1,2,3],\n",
    "     [4,5,6],\n",
    "     [7,8,9]]\n",
    "print(x)"
   ]
  },
  {
   "cell_type": "markdown",
   "id": "5f85d8f9",
   "metadata": {},
   "source": [
    "## 함수(function)\n",
    "특정기능을 하는것을 함수  \n",
    "def 로 시작, 문장 끝에 return "
   ]
  },
  {
   "cell_type": "code",
   "execution_count": 3,
   "id": "66ef37e2",
   "metadata": {},
   "outputs": [
    {
     "data": {
      "text/plain": [
       "200"
      ]
     },
     "execution_count": 3,
     "metadata": {},
     "output_type": "execute_result"
    }
   ],
   "source": [
    "def double(x):\n",
    "    return x * 2\n",
    "\n",
    "double(100)"
   ]
  },
  {
   "cell_type": "code",
   "execution_count": 4,
   "id": "b4ea2ea4",
   "metadata": {},
   "outputs": [
    {
     "data": {
      "text/plain": [
       "6000"
      ]
     },
     "execution_count": 4,
     "metadata": {},
     "output_type": "execute_result"
    }
   ],
   "source": [
    "double(3000)"
   ]
  },
  {
   "cell_type": "markdown",
   "id": "318e21c2",
   "metadata": {},
   "source": [
    "리턴 하면 함수 리턴 하지 않으면 프로시져  \n",
    "아래 같은 경우 프로시져  \n",
    "지금은 구분 하지 않음"
   ]
  },
  {
   "cell_type": "code",
   "execution_count": 5,
   "id": "9e42efd7",
   "metadata": {},
   "outputs": [
    {
     "name": "stdout",
     "output_type": "stream",
     "text": [
      "커피\n"
     ]
    }
   ],
   "source": [
    "def greet():\n",
    "    print(\"커피\")\n",
    "    \n",
    "greet()"
   ]
  },
  {
   "cell_type": "code",
   "execution_count": 6,
   "id": "213382a4",
   "metadata": {},
   "outputs": [
    {
     "data": {
      "text/plain": [
       "200"
      ]
     },
     "execution_count": 6,
     "metadata": {},
     "output_type": "execute_result"
    }
   ],
   "source": [
    "def double(x = 100):\n",
    "    return x * 2\n",
    "\n",
    "double()"
   ]
  },
  {
   "cell_type": "code",
   "execution_count": 7,
   "id": "d7257b5f",
   "metadata": {},
   "outputs": [
    {
     "name": "stdout",
     "output_type": "stream",
     "text": [
      "8 12\n"
     ]
    }
   ],
   "source": [
    "def double_triple(x):\n",
    "    return x*2, x*3\n",
    "\n",
    "x, y = double_triple(4)\n",
    "print(x, y)"
   ]
  },
  {
   "cell_type": "code",
   "execution_count": 10,
   "id": "d7018a8f",
   "metadata": {
    "scrolled": true
   },
   "outputs": [
    {
     "name": "stdout",
     "output_type": "stream",
     "text": [
      "26\n"
     ]
    }
   ],
   "source": [
    "import random\n",
    "\n",
    "x = random. randint(1,100) #randint function in random module\n",
    "print(x)"
   ]
  },
  {
   "cell_type": "code",
   "execution_count": 12,
   "id": "d16735d3",
   "metadata": {},
   "outputs": [
    {
     "name": "stdout",
     "output_type": "stream",
     "text": [
      "27 23 39 26 4 32 "
     ]
    }
   ],
   "source": [
    "for i in range(1,7,1):\n",
    "    x = random.randint(1,45)\n",
    "    print(x, end = \" \")"
   ]
  },
  {
   "cell_type": "markdown",
   "id": "e40d48c6",
   "metadata": {},
   "source": [
    "## numpy  \n",
    "- n 차원 배열(ndarray)  \n",
    "\n",
    "- Numpy”는 “Numerical Python”의 줄임말로, Python의 산술 계산에 매우 유용한 라이브러리 및 모듈이다.  \n",
    "\n",
    "- 반복문을 미사용 배열 연산, 다른 차원 배열끼리의 연산 등  \n",
    "\n",
    "- ndarray 타입 데이터의 * 연산은 각 요소에 * 뒤의 숫자를 곱하라는 의미이다  \n",
    "\n",
    "- 리스트와 달리 배열에서 각 항목은 모두 같은 타입  \n",
    "\n"
   ]
  },
  {
   "cell_type": "markdown",
   "id": "9a938493",
   "metadata": {},
   "source": [
    "## pandas  \n",
    "파이썬에서 사용하는 데이터분석 라이브러리\n",
    "\n",
    "행과 열로 이루어진 데이터 객체를 만들어 다룰 수 있게 되며 \n",
    "\n",
    "보다 안정적으로 대용량의 데이터들을 처리하는데 매우 편리한 도구\n"
   ]
  },
  {
   "cell_type": "markdown",
   "id": "ee9386d0",
   "metadata": {},
   "source": [
    "## Matplotlib  \n",
    "시각화 라이브러리"
   ]
  },
  {
   "cell_type": "markdown",
   "id": "9baedc54",
   "metadata": {},
   "source": [
    "## Scikit-learn(sklearn)\n",
    "널리 사용되는, Machine learning 관련 Python 라이브러리 및 모듈 중 하나이다.\n",
    "\n",
    "실제 Python 코드에서 sklearn 이름으로 라이브러리를 import하기 때문에, 줄여서 “sklearn”이라고도 부른다.\n",
    "\n",
    "다양한 Machine learning 알고리즘들을 포함하고 있다.\n",
    "\n",
    "선형 회귀Linear Regression\n",
    "\n",
    "결정 트리Decision Tree\n",
    "\n",
    "랜덤 포레스트Random Forest 등\n"
   ]
  },
  {
   "cell_type": "markdown",
   "id": "c36cf5da",
   "metadata": {},
   "source": [
    "## pip는 Python Package Index (PyPI)라는   \n",
    "## 파이썬 패키지들을 모아 놓는 저장소로부터  \n",
    "## 파이썬 패키지를 받아 설치하는 패키지 관리 툴입니다\n"
   ]
  },
  {
   "cell_type": "markdown",
   "id": "46645e92",
   "metadata": {},
   "source": [
    "## numpy"
   ]
  },
  {
   "cell_type": "code",
   "execution_count": 14,
   "id": "9e180088",
   "metadata": {},
   "outputs": [
    {
     "name": "stdout",
     "output_type": "stream",
     "text": [
      "Requirement already satisfied: numpy in c:\\users\\laptop\\anaconda3\\lib\\site-packages (1.21.5)\n"
     ]
    },
    {
     "name": "stderr",
     "output_type": "stream",
     "text": [
      "\n",
      "[notice] A new release of pip available: 22.2.2 -> 22.3.1\n",
      "[notice] To update, run: python.exe -m pip install --upgrade pip\n"
     ]
    }
   ],
   "source": [
    "!pip install numpy"
   ]
  },
  {
   "cell_type": "code",
   "execution_count": 16,
   "id": "92db725c",
   "metadata": {},
   "outputs": [
    {
     "data": {
      "text/plain": [
       "array([0.02912893, 0.28982121, 0.38646614, 0.97190543, 0.97155213,\n",
       "       0.45388428, 0.88310855, 0.31556304, 0.89944347, 0.42894264])"
      ]
     },
     "execution_count": 16,
     "metadata": {},
     "output_type": "execute_result"
    }
   ],
   "source": [
    "import numpy as np\n",
    "np.random.rand(10) # rand(n)--> 0~1 사이의 난수 n개 반환"
   ]
  },
  {
   "cell_type": "code",
   "execution_count": 17,
   "id": "b14f395c",
   "metadata": {},
   "outputs": [
    {
     "data": {
      "text/plain": [
       "array([-1.21399586,  0.02275509, -0.4603345 ])"
      ]
     },
     "execution_count": 17,
     "metadata": {},
     "output_type": "execute_result"
    }
   ],
   "source": [
    "np.random.randn(3) # randn(n)--> 표준정규분표에서 난수 n개 반환"
   ]
  },
  {
   "cell_type": "code",
   "execution_count": 18,
   "id": "d66b4a9b",
   "metadata": {},
   "outputs": [
    {
     "data": {
      "text/plain": [
       "array([35,  4, 22, 22, 17, 39])"
      ]
     },
     "execution_count": 18,
     "metadata": {},
     "output_type": "execute_result"
    }
   ],
   "source": [
    "np.random.randint(1 , 45 , size = 6)"
   ]
  },
  {
   "cell_type": "markdown",
   "id": "4589adb3",
   "metadata": {},
   "source": [
    "## Matplotlib"
   ]
  },
  {
   "cell_type": "code",
   "execution_count": 19,
   "id": "0f9e8ff6",
   "metadata": {},
   "outputs": [
    {
     "name": "stdout",
     "output_type": "stream",
     "text": [
      "Requirement already satisfied: matplotlib in c:\\users\\laptop\\anaconda3\\lib\\site-packages (3.5.1)\n",
      "Requirement already satisfied: pyparsing>=2.2.1 in c:\\users\\laptop\\anaconda3\\lib\\site-packages (from matplotlib) (3.0.4)\n",
      "Requirement already satisfied: fonttools>=4.22.0 in c:\\users\\laptop\\anaconda3\\lib\\site-packages (from matplotlib) (4.25.0)\n",
      "Requirement already satisfied: python-dateutil>=2.7 in c:\\users\\laptop\\anaconda3\\lib\\site-packages (from matplotlib) (2.8.2)\n",
      "Requirement already satisfied: numpy>=1.17 in c:\\users\\laptop\\anaconda3\\lib\\site-packages (from matplotlib) (1.21.5)\n",
      "Requirement already satisfied: cycler>=0.10 in c:\\users\\laptop\\anaconda3\\lib\\site-packages (from matplotlib) (0.11.0)\n",
      "Requirement already satisfied: pillow>=6.2.0 in c:\\users\\laptop\\anaconda3\\lib\\site-packages (from matplotlib) (9.0.1)\n",
      "Requirement already satisfied: kiwisolver>=1.0.1 in c:\\users\\laptop\\anaconda3\\lib\\site-packages (from matplotlib) (1.3.2)\n",
      "Requirement already satisfied: packaging>=20.0 in c:\\users\\laptop\\anaconda3\\lib\\site-packages (from matplotlib) (21.3)\n",
      "Requirement already satisfied: six>=1.5 in c:\\users\\laptop\\anaconda3\\lib\\site-packages (from python-dateutil>=2.7->matplotlib) (1.16.0)\n"
     ]
    },
    {
     "name": "stderr",
     "output_type": "stream",
     "text": [
      "\n",
      "[notice] A new release of pip available: 22.2.2 -> 22.3.1\n",
      "[notice] To update, run: python.exe -m pip install --upgrade pip\n"
     ]
    }
   ],
   "source": [
    "!pip install matplotlib"
   ]
  },
  {
   "cell_type": "code",
   "execution_count": 24,
   "id": "b10cbb76",
   "metadata": {},
   "outputs": [
    {
     "data": {
      "text/plain": [
       "'Intel64 Family 6 Model 140 Stepping 2, GenuineIntel'"
      ]
     },
     "execution_count": 24,
     "metadata": {},
     "output_type": "execute_result"
    }
   ],
   "source": [
    "import platform\n",
    "platform.processor()"
   ]
  },
  {
   "cell_type": "markdown",
   "id": "996de73f",
   "metadata": {},
   "source": [
    "import platform  \n",
    "from matplotlib import font_manager, rc  \n",
    "import matplotlib  \n",
    "#'-' 부호가 제대로 표시되게 하는 설정   \n",
    "matplotlib.rcParams['axes.unicode_minus'] = False  \n",
    "#운영 체제마다 한글이 보이게 하는 설정 # 윈도우  \n",
    "if platform.system() == 'Windows':  \n",
    "    path = \"c:\\Windows\\Fonts\\malgun.ttf\"  \n",
    "    font_name = font_manager.FontProperties(fname=path).get_name()   \n",
    "    rc('font', family=font_name)  \n",
    "#맥  \n",
    "elif platform.system() == 'Darwin':   \n",
    "    rc('font', family='AppleGothic')  \n",
    "#리눅스  \n",
    "elif platform.system() == 'Linux':  \n",
    "    rc('font', family='NanumBarunGothic')  \n"
   ]
  },
  {
   "cell_type": "code",
   "execution_count": 26,
   "id": "ada77b82",
   "metadata": {},
   "outputs": [],
   "source": [
    "import platform\n",
    "from matplotlib import font_manager, rc \n",
    "import matplotlib\n",
    "# '-' 부호가 제대로 표시되게 하는 설정 \n",
    "matplotlib.rcParams['axes.unicode_minus'] = False\n",
    "# 운영 체제마다 한글이 보이게 하는 설정 \n",
    "# 윈도우\n",
    "path = \"c:\\Windows\\Fonts\\malgun.ttf\"\n",
    "font_name = font_manager.FontProperties(fname=path).get_name() \n",
    "rc('font', family=font_name)"
   ]
  },
  {
   "cell_type": "code",
   "execution_count": 34,
   "id": "037d2e07",
   "metadata": {},
   "outputs": [
    {
     "data": {
      "text/plain": [
       "Text(0, 0.5, '랜덤값')"
      ]
     },
     "execution_count": 34,
     "metadata": {},
     "output_type": "execute_result"
    },
    {
     "data": {
      "image/png": "[encoded data removed]",
      "text/plain": [
       "<Figure size 432x288 with 1 Axes>"
      ]
     },
     "metadata": {
      "needs_background": "light"
     },
     "output_type": "display_data"
    }
   ],
   "source": [
    "import numpy as np\n",
    "import matplotlib.pyplot as plt\n",
    "%matplotlib inline \n",
    "#jupyter notebook 에서 바로 시각화 해주는 것\n",
    "\n",
    "n = 10\n",
    "y = np.random.randn(n)\n",
    "\n",
    "plt.plot(range(n), y, marker = 'p')\n",
    "plt.xlabel('시간')\n",
    "plt.ylabel('랜덤값')"
   ]
  },
  {
   "cell_type": "code",
   "execution_count": 41,
   "id": "5efd1e43",
   "metadata": {},
   "outputs": [
    {
     "data": {
      "text/plain": [
       "<matplotlib.collections.PathCollection at 0x158609c0fd0>"
      ]
     },
     "execution_count": 41,
     "metadata": {},
     "output_type": "execute_result"
    },
    {
     "data": {
      "image/png": "[encoded data removed]",
      "text/plain": [
       "<Figure size 432x288 with 1 Axes>"
      ]
     },
     "metadata": {
      "needs_background": "light"
     },
     "output_type": "display_data"
    }
   ],
   "source": [
    "x = range(0, 100, 1)\n",
    "y1 = np.random.rand(100)\n",
    "y2 = np.random.randn(100)\n",
    "\n",
    "plt.scatter(x, y1, c = 'blue', s = 10, marker = 'v')\n",
    "plt.scatter(x, y2, c = 'orange', s = 30, marker = 'x')"
   ]
  },
  {
   "cell_type": "code",
   "execution_count": 42,
   "id": "89d658f9",
   "metadata": {},
   "outputs": [
    {
     "data": {
      "image/png": "[encoded data removed]",
      "text/plain": [
       "<Figure size 432x288 with 1 Axes>"
      ]
     },
     "metadata": {
      "needs_background": "light"
     },
     "output_type": "display_data"
    }
   ],
   "source": [
    "x = np.random.randint(1, 45, 1000)\n",
    "plt.hist(x, bins = 1000, width = 0.3)\n",
    "plt.show()"
   ]
  },
  {
   "cell_type": "code",
   "execution_count": 44,
   "id": "19410899",
   "metadata": {},
   "outputs": [
    {
     "data": {
      "image/png": "[encoded data removed]",
      "text/plain": [
       "<Figure size 432x288 with 1 Axes>"
      ]
     },
     "metadata": {
      "needs_background": "light"
     },
     "output_type": "display_data"
    }
   ],
   "source": [
    "x = np.random.randint(1,7,10000)\n",
    "plt.hist(x,bins=6,width=0.6)\n",
    "plt.show()"
   ]
  },
  {
   "cell_type": "code",
   "execution_count": 49,
   "id": "6467107c",
   "metadata": {
    "scrolled": true
   },
   "outputs": [
    {
     "data": {
      "image/png": "[encoded data removed]",
      "text/plain": [
       "<Figure size 432x288 with 1 Axes>"
      ]
     },
     "metadata": {
      "needs_background": "light"
     },
     "output_type": "display_data"
    }
   ],
   "source": [
    "z = 0\n",
    "n = 32\n",
    "for i in range(n):\n",
    "    x = np.random.randint(1,7,10000)\n",
    "    z = z + x\n",
    "    \n",
    "plt.hist(z, bins = n*5+1, width = 0.6)\n",
    "plt.show()"
   ]
  },
  {
   "cell_type": "code",
   "execution_count": 53,
   "id": "047be140",
   "metadata": {},
   "outputs": [
    {
     "data": {
      "image/png": "[encoded data removed]",
      "text/plain": [
       "<Figure size 432x288 with 1 Axes>"
      ]
     },
     "metadata": {
      "needs_background": "light"
     },
     "output_type": "display_data"
    }
   ],
   "source": [
    "x = np.random.randn(10000)\n",
    "plt.hist(x, bins = 100, width = 0.02)\n",
    "plt.show()"
   ]
  },
  {
   "cell_type": "code",
   "execution_count": 57,
   "id": "76140992",
   "metadata": {},
   "outputs": [
    {
     "data": {
      "image/png": "[encoded data removed]",
      "text/plain": [
       "<Figure size 432x288 with 1 Axes>"
      ]
     },
     "metadata": {
      "needs_background": "light"
     },
     "output_type": "display_data"
    }
   ],
   "source": [
    "t = np.arange(0., 5., 0.2)\n",
    "plt.title('line plt/ drow more line')\n",
    "plt.plot(t,t,'r--',t,0.5*t**2,'bs:',t,0.2*t**3,'g^-')  #color, maker, line style\n",
    "plt.show()"
   ]
  },
  {
   "cell_type": "markdown",
   "id": "15363b43",
   "metadata": {},
   "source": [
    "https://matplotlib.org/stable/api/markers_api.html   마커\n"
   ]
  }
 ],
 "metadata": {
  "kernelspec": {
   "display_name": "Python 3 (ipykernel)",
   "language": "python",
   "name": "python3"
  },
  "language_info": {
   "codemirror_mode": {
    "name": "ipython",
    "version": 3
   },
   "file_extension": ".py",
   "mimetype": "text/x-python",
   "name": "python",
   "nbconvert_exporter": "python",
   "pygments_lexer": "ipython3",
   "version": "3.9.12"
  }
 },
 "nbformat": 4,
 "nbformat_minor": 5
}
